{
 "cells": [
  {
   "cell_type": "markdown",
   "metadata": {},
   "source": [
    "# Pregunta"
   ]
  },
  {
   "cell_type": "markdown",
   "metadata": {},
   "source": [
    "## ¿Cómo se compara el desempeño del algoritmosimulated annealing con el desempeño del algoritmo genético en la resolución delproblema del vendedor viajero para 17 localidades en Costa Rica?"
   ]
  },
  {
   "cell_type": "markdown",
   "metadata": {},
   "source": [
    "## Problema"
   ]
  },
  {
   "cell_type": "markdown",
   "metadata": {},
   "source": [
    "### Hipótesis"
   ]
  },
  {
   "cell_type": "markdown",
   "metadata": {},
   "source": [
    "Las hipótesis planteadas sobre cual algoritmo tendrá el mejor desempeño, es la que va a depender de lo que se necesite para solucionar el problema, en este caso específico, se espera que  el algoritmo simulated annealing tenga un tiempo de ejecución menor, ya que devuelve únicamente una solución, mientras que el algoritmo genético puede devolver una o más soluciones dependiendo del tamaño de la población que maneje.\n",
    "\n",
    "En cuanto a efectividad, se estima que el genético sea el mejor para esto, porque puede haber más de una solución al problema, que en este caso es recorrer la menor distancia entre las ciudades de nuestro país.\n",
    "\n",
    "La temperatura como parámetro en el simulated annealing se cree que a mayor sea, se espera un buen costo de ruta. En cuanto al parámetro específicamente de la tasa de enfriamiento en el simulated annealing, se expecta que cuanto más se acerque a uno, la solución sea óptima, pero tarde más.\n",
    "\n",
    "En el caso del genético se produciría una acción similar con el porcentaje de mutación, se cree que entre menos sea el porcentaje de mutación, resultados o poblaciones más acertadas van a obtenerse."
   ]
  },
  {
   "cell_type": "markdown",
   "metadata": {},
   "source": [
    "#### ¿Cuál es la configuración de parámetros recomendada para resolver el problema con el algoritmo simulated annealing?¿Por qué?"
   ]
  },
  {
   "cell_type": "markdown",
   "metadata": {},
   "source": [
    "El algoritmo simulated annealing, se ve altamente influenciado en su rendimiento por sus parametros principales, los cuales son: la temperatura y la tasa de enfriamiento. \n",
    "\n",
    "La temperatura influye en la capacidad de movimiento, al permitir con temperaturas altas no estancarse en posibles óptimos locales sino mas bien da la posibilidad de acercarse al óptimo global. \n",
    "\n",
    "Cuando inicialmente la temperatura es alta, haciendo referencia a un valor alto, se aceptan grandes errores en la función objetivo, pero conforme la temperatura va descendiendo se aceptan cada vez menos errores finalmente tendiendo a cero. Es decir, cuando inicia la simulación se aceptan soluciones de baja calidad, posteriormente entre más disminuya la temperatura la probabilidad de que se acepten soluciones de baja calidad es menor.\n",
    "\n",
    "Se inicia con una temperatura $T_0$ y con cada iteración $k$ el valor de la temperatura cambiará hasta un valor $T_k$\n",
    "\n",
    "Con respecto a la tasa de enfriamiento, este parámetro representa como la temperatura es gradualmente reducida en la simulación, por lo que esta es inicializada con un valor alto. Debido a esto, la temperatura en la simulación debe irse reduciendo hasta un valor cercano a 0. \n",
    "\n",
    "Para la tasa de enfriamiento, según literatura especializada, se recomienda que esté en un rango de 80% a 99%, debido a que permite que una solución dependa del tamaño de la entrada, por lo tanto, se disminuya hasta un valor exponencialmente pequeño."
   ]
  },
  {
   "cell_type": "markdown",
   "metadata": {},
   "source": [
    "#### ¿Cuál es la configuración de parámetros recomendada para resolver el problema con el algoritmo genético?¿Por qué?"
   ]
  },
  {
   "cell_type": "markdown",
   "metadata": {},
   "source": [
    "## LLENAR CON LOS PARAMETROS DEL GENETICO*********************************************\""
   ]
  },
  {
   "cell_type": "markdown",
   "metadata": {},
   "source": [
    "Con lo anterior, se tiene la hipótesis que los parámetros en ambos algoritmos deben tener un balance para que la solución sea óptima, esto en el caso de annealing se traduce a que si presenta poca temperatura y mucha tasa de enfriamiento puede que el algoritmo se tome su tiempo y no sea  eficaz, debido a que la temperatura se está multiplicando prácticamente por uno en el algoritmo. En el caso del genético que la población inicial y porcentajes de mutación estén ajustados con muy poca población y muy alto porcentaje respectivamente, lo que causaría que el algoritmo sea menos eficiente."
   ]
  },
  {
   "cell_type": "markdown",
   "metadata": {},
   "source": [
    "## Metodología"
   ]
  },
  {
   "cell_type": "markdown",
   "metadata": {},
   "source": [
    "Existen diversidad de factores por los que se pueden comparar el algoritmo simulated annealing(SA) con el algoritmo genetico(GA) como el tamaño de la entrada, los parámetros, el tiempo de ejecución, la aproximación al óptimo global entre otras. Para esta investigación se tomarán 2 de estas pruebas."
   ]
  },
  {
   "cell_type": "markdown",
   "metadata": {},
   "source": [
    "- 1) Parámetros\n",
    "Dada una matriz de ciudades, una temperatura $x$, y una tasa de enfriamiento $y$, determinar cuál set de parámetros es el mas óptimo para el algoritmo SA.\n",
    "\n",
    "   | Tamaño matriz  | Temperatura | Tasa enfriamiento | Distancia | Iteraciones |\n",
    "       | :-: | :-: | :-: | :-: | :-: |\n",
    "    |  16   |  $x_1$  | $y_1$   |   |   |\n",
    "    |  16   |  $x_2$  |  $y_2$   |   |   |\n",
    "    |  16   |  $x_3$  |  $y_3$   |   |   |\n",
    "    |  16   |  $x_4$  |  $y_4$   |   |   |\n",
    "    \n",
    "    \n",
    "Dada una matriz de ciudades, una población $x$ y una tasa de mutación $y$, determinar cuál set de parámetros es el más áptimo para el algoritmo genético.\n",
    "\n",
    "| Tamaño matriz  | Población | Tasa de mutación | Distancia | Iteraciones |\n",
    "        | :-: | :-: | :-: | :-: | :-: |\n",
    "    |  16   |  $x_1$  | $y_1$   |   |   |\n",
    "    |  16   |  $x_2$  |  $y_2$   |   |   |\n",
    "    |  16   |  $x_3$  |  $y_3$   |   |   |\n",
    "    |  16   |  $x_4$  |  $y_4$   |   |   |\n",
    "    \n",
    "    \n",
    " - 2) Set de Entrada.\n",
    "    \n",
    "Una vez obtenido el set de parámetros óptimo utilizar dichos parámetros para comparar el resultado con diferentes set de ciudades de entrada, es decir matrices con mayor y menor cantidad de columnas y filas.\n",
    "    \n",
    "    \n",
    "| Tamaño matriz  | Población | Tasa de mutación | Distancia | Iteraciones |\n",
    "        | :-: | :-: | :-: | :-: | :-: |\n",
    "    |  8   |  x  |  y   |   |   |\n",
    "    |  10   |  x  |  y   |   |   |\n",
    "    |  12   |  x  |  y   |   |   |\n",
    "    |  14   |  x  |  y   |   |   |\n",
    "    |  16   |  x  |  y   |   |   |"
   ]
  },
  {
   "cell_type": "code",
   "execution_count": 8,
   "metadata": {},
   "outputs": [
    {
     "ename": "ModuleNotFoundError",
     "evalue": "No module named 'matplotlib'",
     "output_type": "error",
     "traceback": [
      "\u001b[0;31m---------------------------------------------------------------------------\u001b[0m",
      "\u001b[0;31mModuleNotFoundError\u001b[0m                       Traceback (most recent call last)",
      "\u001b[0;32m<ipython-input-8-d334dfeed4d5>\u001b[0m in \u001b[0;36m<module>\u001b[0;34m\u001b[0m\n\u001b[1;32m      1\u001b[0m \u001b[0;32mfrom\u001b[0m \u001b[0mmath\u001b[0m \u001b[0;32mimport\u001b[0m \u001b[0mlog\u001b[0m\u001b[0;34m\u001b[0m\u001b[0;34m\u001b[0m\u001b[0m\n\u001b[0;32m----> 2\u001b[0;31m \u001b[0;32mimport\u001b[0m \u001b[0mmatplotlib\u001b[0m\u001b[0;34m.\u001b[0m\u001b[0mpyplot\u001b[0m \u001b[0;32mas\u001b[0m \u001b[0mplt\u001b[0m\u001b[0;34m\u001b[0m\u001b[0;34m\u001b[0m\u001b[0m\n\u001b[0m\u001b[1;32m      3\u001b[0m \u001b[0;34m\u001b[0m\u001b[0m\n\u001b[1;32m      4\u001b[0m \u001b[0meje_x\u001b[0m \u001b[0;34m=\u001b[0m \u001b[0mrange\u001b[0m\u001b[0;34m(\u001b[0m\u001b[0;36m8\u001b[0m\u001b[0;34m,\u001b[0m \u001b[0;36m16\u001b[0m\u001b[0;34m)\u001b[0m\u001b[0;34m\u001b[0m\u001b[0;34m\u001b[0m\u001b[0m\n\u001b[1;32m      5\u001b[0m \u001b[0meje_y1\u001b[0m \u001b[0;34m=\u001b[0m \u001b[0;34m[\u001b[0m\u001b[0mx\u001b[0m\u001b[0;34m**\u001b[0m\u001b[0;36m2\u001b[0m \u001b[0;32mfor\u001b[0m \u001b[0mx\u001b[0m \u001b[0;32min\u001b[0m \u001b[0meje_x\u001b[0m\u001b[0;34m]\u001b[0m\u001b[0;34m\u001b[0m\u001b[0;34m\u001b[0m\u001b[0m\n",
      "\u001b[0;31mModuleNotFoundError\u001b[0m: No module named 'matplotlib'"
     ]
    }
   ],
   "source": [
    "from math import log\n",
    "import matplotlib.pyplot as plt\n",
    "\n",
    "eje_x = range(8, 16)\n",
    "eje_y1 = [x**2 for x in eje_x]\n",
    "eje_y2 = [x+5**2 for x in eje_x]\n",
    "plt.plot(eje_x, eje_y1)\n",
    "plt.plot(eje_x, eje_y2)\n",
    "plt.ylabel('Distancia')\n",
    "plt.xlabel('Ciudades')\n",
    "plt.show()"
   ]
  },
  {
   "cell_type": "markdown",
   "metadata": {},
   "source": [
    "## Referencias"
   ]
  },
  {
   "cell_type": "markdown",
   "metadata": {},
   "source": [
    "- Moon-Won Park,Yeong-Dae Kim. (March 1998). A systematic procedure for setting parameters in simulated annealing algorithms. Computers & Opertaions Research, 25, 207-217.\n",
    "- Zhan S,Lin J(2016). List-Based Simulated Annealing Algorithm for Traveling Salesman Problem.Computational Intelligence and Neuroscience, 2016"
   ]
  }
 ],
 "metadata": {
  "kernelspec": {
   "display_name": "Python 3",
   "language": "python",
   "name": "python3"
  },
  "language_info": {
   "codemirror_mode": {
    "name": "ipython",
    "version": 3
   },
   "file_extension": ".py",
   "mimetype": "text/x-python",
   "name": "python",
   "nbconvert_exporter": "python",
   "pygments_lexer": "ipython3",
   "version": "3.7.4"
  }
 },
 "nbformat": 4,
 "nbformat_minor": 4
}
