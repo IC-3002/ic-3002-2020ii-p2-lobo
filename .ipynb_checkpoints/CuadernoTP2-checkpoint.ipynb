{
 "cells": [
  {
   "cell_type": "markdown",
   "metadata": {},
   "source": [
    "# Pregunta"
   ]
  },
  {
   "cell_type": "markdown",
   "metadata": {},
   "source": [
    " "
   ]
  },
  {
   "cell_type": "markdown",
   "metadata": {},
   "source": [
    "## ¿Cómo se compara el desempeño del algoritmo Simulated Annealing con el desempeño del algoritmo Genético en la resolución del problema del vendedor viajero para 17 localidades en Costa Rica?\n"
   ]
  },
  {
   "cell_type": "markdown",
   "metadata": {},
   "source": [
    "## Hipótesis"
   ]
  },
  {
   "cell_type": "markdown",
   "metadata": {},
   "source": [
    "Tanto el algoritmo Simulated Annealing como el algoritmo genético intentan dar respuesta al problema del Vendedor Viajero, este, al ser un problema dentro de la categoría NP-Completo, no se puede obtener una respuesta del todo exacta, sin embargo, se pueden optimizar sus aproximaciones hasta encontrar una respuesta que sea lo suficientemente buena.\n",
    "\n",
    "Con base en lo anterior, se tiene como hipótesis, que el algoritmo Simulated Annealing genarará su resultado con un menor tiempo de ejecución, sin embargo, el algoritmo Genético producirá una respuesta más cercana al óptimo global."
   ]
  },
  {
   "cell_type": "markdown",
   "metadata": {},
   "source": [
    "## Metodología"
   ]
  },
  {
   "cell_type": "markdown",
   "metadata": {},
   "source": [
    "Existen diversidad de factores por los que se pueden comparar el algoritmo simulated annealing(SA) con el algoritmo genetico(GA) como el tamaño de la entrada, los parámetros, el tiempo de ejecución, la aproximación al óptimo global entre otras. Para esta investigación se tomarán 2 de estas pruebas.\n",
    "\n",
    "- 1) Parámetros.\n",
    "\n",
    "Dada una matriz de ciudades, una temperatura $x$, y una tasa de enfriamiento $y$, determinar cuál set de parámetros es el mas óptimo para el algoritmo SA.\n",
    "\n",
    "| Tamaño matriz  | Temperatura | Tasa enfriamiento | Distancia | Iteraciones |\n",
    "    | :-: | :-: | :-: | :-: | :-: |\n",
    "|  17   |  $x_1$  | $y_1$   |   |   |\n",
    "|  17   |  $x_2$  |  $y_2$   |   |   |\n",
    "|  17   |  $x_3$  |  $y_3$   |   |   |\n",
    "|  17   |  $x_4$  |  $y_4$   |   |   |\n",
    "\n",
    "\n",
    "Dada una matriz de ciudades, una población $x$ y una tasa de mutación $y$, determinar cuál set de parámetros es el más óptimo para GA.\n",
    "\n",
    "| Tamaño matriz  | Población | Élite | Tasa de mutación | Distancia | Iteraciones |\n",
    "| :-: | :-: | :-: | :-: | :-: | :-: |\n",
    "|  17   |  $x_1$  | 0.1 | $y_1$   |   |   |\n",
    "|  17   |  $x_2$  | 0.1 | $y_2$   |   |   |\n",
    "|  17   |  $x_3$  | 0.1 | $y_3$   |   |   |\n",
    "|  17   |  $x_4$  | 0.1 | $y_4$   |   |   |\n",
    "\n",
    "- 2) Tiempo.\n",
    "\n",
    "Una vez obtenido los mejores posibles parámetros en la prueba 1 se dispone a comparar ambos algoritmos en tiempo de ejecución, para esto se utilizará la biblioteca $time$ de python la cual tomará el tiempo del computador antes de la ejecución del algoritmo y recien termine la ejecución del mismo al restar ambos datos obtendremos como resultado el tiempo de ejecución.\n",
    "Los resultados se mostrarán de la siguiente forma:\n",
    "\n",
    "| Simulated Annealing  | Genético | \n",
    "    | :-: | :-: |\n",
    "|$tSA_0$ seg | $tGA_0$ seg |\n",
    "|$tSA_1$  seg | $tGA_0$ seg |\n",
    "|$tSA_2$ seg | $tGA_0$ seg |\n",
    "|$tSA_3$  seg | $tGA_0$ seg  |\n",
    "|$tSA_4$  seg | $tGA_0$ seg  |\n",
    "\n",
    "- 3) Aproximación a la ruta óptima.\n",
    "\n",
    "Una vez obtenidos los mejores posibles parámetros en la prueba 1 se dispone a comparar ambos algoritmos en cuanto a la mejor ruta, en especial nos interesa el costo de estas rutas.\n",
    "Los resultados se mostrarán de la siguiente forma:\n",
    "\n",
    "| Simulated Annealing  | Genético | \n",
    "    | :-: | :-: |\n",
    "| $cSA_0$ | $cGA_0$ |\n",
    "| $cSA_1$| $cGA_0$ |\n",
    "| $cSA_2$ | $cGA_0$ |\n",
    "| $cSA_3$| $cGA_0$ |\n",
    "| $cSA_4$ | $cGA_0$ |"
   ]
  },
  {
   "cell_type": "markdown",
   "metadata": {},
   "source": [
    "### Diseño de Experimentos"
   ]
  },
  {
   "cell_type": "markdown",
   "metadata": {},
   "source": [
    "#### Algoritmo Simulated Annealing"
   ]
  },
  {
   "cell_type": "markdown",
   "metadata": {},
   "source": [
    "Iniciamos pruebas con con un temperatura de 10 000 que fue aumentando en cada iteración hasta 6 250 000., una tasa de enfriamiento que varía entre 0.8, 0.9, 0.95 y 0.99"
   ]
  },
  {
   "cell_type": "markdown",
   "metadata": {},
   "source": [
    "#### Algoritmo Genético "
   ]
  },
  {
   "cell_type": "markdown",
   "metadata": {},
   "source": [
    "Iniciamos pruebas con una población de cien individuos que fueron aumentando en 200 individuos con cada iteración hasta 900, una élite de 0.1 que se mantendrá fijo a lo largo del experimento, un rango de mutación desde 0,1 que variará hasta 0,9 y una cantidad de 1000 repeticiones. "
   ]
  },
  {
   "cell_type": "markdown",
   "metadata": {},
   "source": [
    "## Ejecución de Experimentos"
   ]
  },
  {
   "cell_type": "markdown",
   "metadata": {},
   "source": [
    "#### Algoritmo Simulated Annealing"
   ]
  },
  {
   "cell_type": "markdown",
   "metadata": {},
   "source": [
    "| Tamaño matriz  | Temperatura | Tasa enfriamiento | Distancia | Iteraciones |\n",
    "    | :-: | :-: | :-: | :-: | :-: |\n",
    "|  17   | 10000 | 0.8 | 2113.7 | 62 |\n",
    "|  17   | 10000 | 0.9 | 2224.7 | 132 |\n",
    "|  17   | 10000 | 0.95 | 1827.0 | 270 |\n",
    "|  17   | 10000 | 0.99 | 1899.4 | 1375 |\n",
    "|  17   | 50000.0 | 0.8 | 2587.3 | 70 |\n",
    "|  17   | 50000.0 | 0.9 | 2067.9 | 147 |\n",
    "|  17   | 50000.0 | 0.95 | 2412.9 | 301 |\n",
    "|  17   | 50000.0 | 0.99 | 1776.5 | 1535 |\n",
    "|  17   | 250000.0 | 0.8 | 2224.0 | 77 |\n",
    "|  17   | 250000.0 | 0.9 | 2034.6 | 162 |\n",
    "|  17   | 250000.0 | 0.95 | 1847.6 | 333 |\n",
    "|  17   | 250000.0 | 0.99 | 1888.1 | 1695 |\n",
    "|  17   | 1250000.0 | 0.8 | 2220.2 | 84 |\n",
    "|  17   | 1250000.0 | 0.9 | 2037.8 | 177 |\n",
    "|  17   | 1250000.0 | 0.95 | 2035.4 | 364 |\n",
    "|  17   | 1250000.0 | 0.99 | 1762.4 | 1856 |\n",
    "|  17   | 6250000.0 | 0.8 | 2419.5 | 91 |\n",
    "|  17   | 6250000.0 | 0.9 | 2179.7 | 193 |\n",
    "|  17   | 6250000.0 | 0.95 | 2063.4 | 395 |\n",
    "|  17   | 6250000.0 | 0.99 | 1802.5 | 2016 |\n",
    "\n",
    "\n",
    "\n"
   ]
  },
  {
   "cell_type": "markdown",
   "metadata": {},
   "source": [
    "#### Algoritmo Genético "
   ]
  },
  {
   "cell_type": "markdown",
   "metadata": {},
   "source": [
    "| Tamaño matriz  | Población | Elite |Tasa de mutación | Distancia | Iteraciones |\n",
    "    | :-: | :-: | :-: | :-: | :-: | :-: |\n",
    "|  17   | 100 | 0.1 | 0.1 | 1808.8 |   1000 |\n",
    "|  17   | 100 | 0.1 | 0.3 | 1796.8 |   1000 |\n",
    "|  17   | 100 | 0.1 | 0.5 | 2273.8 |   1000 |\n",
    "|  17   | 100 | 0.1 | 0.7 | 2401.7 |   1000 |\n",
    "|  17   | 100 | 0.1 | 0.9 | 2231.6 |   1000 |\n",
    "|  17   | 300 | 0.1 | 0.1 | 1769.0 |   1000 |\n",
    "|  17   | 300 | 0.1 | 0.3 | 1710.7 |   1000 |\n",
    "|  17   | 300 | 0.1 | 0.5 | 1910.9 |   1000 |\n",
    "|  17   | 300 | 0.1 | 0.7 | 2254.4 |   1000 |\n",
    "|  17   | 300 | 0.1 | 0.9 | 2471.8 |   1000 |\n",
    "|  17   | 500 | 0.1 | 0.1 | 1732.8 |   1000 |\n",
    "|  17   | 500 | 0.1 | 0.3 | 1710.7 |   1000 |\n",
    "|  17   | 500 | 0.1 | 0.5 | 1904.1 |   1000 |\n",
    "|  17   | 500 | 0.1 | 0.7 | 2307.7 |   1000 |\n",
    "|  17   | 500 | 0.1 | 0.9 | 2062.0 |   1000 |\n",
    "|  17   | 700 | 0.1 | 0.1 | 1769.0 |   1000 |\n",
    "|  17   | 700 | 0.1 | 0.3 | 1684.4 |   1000 |\n",
    "|  17   | 700 | 0.1 | 0.5 | 2036.7 |   1000 |\n",
    "|  17   | 700 | 0.1 | 0.7 | 2151.5 |   1000 |\n",
    "|  17   | 700 | 0.1 | 0.9 | 2320.4 |   1000 |\n",
    "|  17   | 900 | 0.1 | 0.1 | 1692.3 |   1000 |\n",
    "|  17   | 900 | 0.1 | 0.3 | 1724.0 |   1000 |\n",
    "|  17   | 900 | 0.1 | 0.5 | 2091.1 |   1000 |\n",
    "|  17   | 900 | 0.1 | 0.7 | 2313.9 |   1000 |\n",
    "|  17   | 900 | 0.1 | 0.9 | 2344.3 |   1000 |"
   ]
  },
  {
   "cell_type": "markdown",
   "metadata": {},
   "source": [
    "Después de efectuar ambos experimentos, se puede apreciar que se obtiene un menor costo para resolver el problema del Vendedor Viajero para 17 ciudades de Costa Rica, en el caso de Simulated Annealing, con los siguientes parámetros:\n",
    "\n",
    "- Temperatura: 1250000\n",
    "- Tasa de Enfriamiento: 0.99\n",
    "\n",
    "En el caso del algoritmo Genético, los mejores parámetros son:\n",
    "\n",
    "- Población: 700\n",
    "- Porcentaje de mutación: 0.1\n",
    "- Porcentaje de población élite: 0.1\n",
    "- Repeticiones: 1000\n",
    "\n",
    "\n"
   ]
  },
  {
   "cell_type": "markdown",
   "metadata": {},
   "source": [
    "### Comparación de Desempeño"
   ]
  },
  {
   "cell_type": "markdown",
   "metadata": {},
   "source": [
    "Una vez obtenidos los sets de los posibles mejores parámetros para ambos algoritmos, se procede a comparar ambos algoritmos en terminos de el tiempo que tardan en encontrar la mejor posible ruta y en el costo de estas posibles rutas. "
   ]
  },
  {
   "cell_type": "markdown",
   "metadata": {},
   "source": [
    "#### Comparación de tiempos de ejecución:"
   ]
  },
  {
   "cell_type": "markdown",
   "metadata": {},
   "source": [
    "| Simulated Annealing  | Genético | \n",
    "    | :-: | :-: |\n",
    "|0.0198159218 s | 13.1081430912 s |\n",
    "|0.0144686699 s | 13.5325026512 s |\n",
    "|0.0178937912 s | 13.5112099648 s |\n",
    "|0.0148079395 s | 13.5958588123 s |\n",
    "|0.0151381493 s | 12.9981882572 s |\n",
    "\n",
    "\n",
    "- Mejor tiempo Simulated Annealing: 0.0144686699 segundos.\n",
    "- Mejor tiempo Genético: 12.9981882572 segundos.\n",
    "\n",
    "Como se evidencia en la tabla anterior, el algoritmo Simulated Annealing presenta un tiempo de ejecución mucho menor comparado a la solución programada con el algoritmo genético. El algoritmo genético tiene un promedio de ejecución de 13 segundos mientras que el algoritmo Simulated Annealing tiene un promedio de 0.016 segundos. Esto se debe a la cantidad de operaciones que debe realizar el genético en una población sumado a la  cantidad de repeticiones. \n",
    "Es importante recalcar que estos valores se pueden ver afectados por los recursos \n",
    "     \n",
    "   "
   ]
  },
  {
   "cell_type": "markdown",
   "metadata": {},
   "source": [
    "#### Comparación en aproximación a la ruta óptima"
   ]
  },
  {
   "cell_type": "markdown",
   "metadata": {},
   "source": [
    "| Simulated Annealing  | Genético | \n",
    "    | :-: | :-: |\n",
    "| 1759.60 | 1783.5 |\n",
    "| 1856.0 | 1819.700 |\n",
    "| 1652.8 | 1674.1 |\n",
    "| 1699.2 | 1716.69999 |\n",
    "| 1733.39 | 1675.8 |\n",
    "\n",
    "- Menor costo Simulated Annealing: 1652.8\n",
    "- Menor costo Algoritmo Genético: 1674.1\n",
    "\n",
    "Como se puede observar en la tabla anterior ambos algoritmos generan, para el problema del vendedor viajero en estudio, soluciones muy similares en términos de costo. Esto es debido a los parámetros de ambos algoritmos, al escoger un set de los posibles mejores parámetros, el algoritmo puede desempeñarse de la mejor manera."
   ]
  },
  {
   "cell_type": "markdown",
   "metadata": {},
   "source": [
    "## Conclusión"
   ]
  },
  {
   "cell_type": "markdown",
   "metadata": {},
   "source": [
    "Con base a la experimentación se puede evidenciar que el algoritmo simulated annealing para el problema del vendedor viajero para las 17 ciudades de Costa Rica puede encontrar soluciones en un tiempo mucho menor al algoritmo genético, por otra parte en cuanto al menor costo se puede observar que ambos algoritmos encuentran resultados bastante similares. Es importante recalcar que la escogencia de buenos parámetros es vital para aprovechar al máximo el potencial de estos algoritmos.\n",
    "\n",
    "Por lo tanto nuestra hipótesis de invetigación se cumple parcialmente, ya que si bien es notable la diferencia en tiempo en los experimentos entre dichos algoritmos, la calidad de la respuesta es muy similar como para escoger cual es mejor que el otro.\n"
   ]
  },
  {
   "cell_type": "markdown",
   "metadata": {},
   "source": [
    "#### ¿Cuál es la configuración de parámetros recomendada para resolver el problema con el algoritmo simulated annealing? ¿Por qué?"
   ]
  },
  {
   "cell_type": "markdown",
   "metadata": {},
   "source": [
    "Para este problema en específico con base en las pruebas realizadas los mejores parámetros son:\n",
    "- Temperatura: 1250000\n",
    "- Tasa de Enfriamiento: 0.99\n",
    "\n",
    "La temperatura influye en la capacidad de movimiento, al permitir con temperaturas altas no estancarse en posibles óptimos locales sino mas bien da la posibilidad de acercarse al óptimo global. \n",
    "\n",
    "Cuando inicialmente la temperatura es alta, haciendo referencia a un valor alto, se aceptan grandes errores en la función objetivo, pero conforme la temperatura va descendiendo se aceptan cada vez menos errores finalmente tendiendo a cero. Es decir, cuando inicia la simulación se aceptan soluciones de baja calidad, posteriormente entre más disminuya la temperatura la probabilidad de que se acepten soluciones de baja calidad es menor.\n",
    "\n",
    "Con respecto a la tasa de enfriamiento, este parámetro representa como la temperatura es gradualmente reducida en la simulación, por lo que esta es inicializada con un valor alto. Debido a esto, la temperatura en la simulación debe irse reduciendo hasta un valor cercano a 0. \n",
    "\n",
    "Para la tasa de enfriamiento, según literatura especializada, se recomienda que esté en un rango de 80% a 99%, debido a que permite que una solución dependa del tamaño de la entrada, por lo tanto, se disminuya hasta un valor exponencialmente pequeño.\n",
    "\n"
   ]
  },
  {
   "cell_type": "markdown",
   "metadata": {},
   "source": [
    "\n",
    "#### ¿Cuál es la configuración de parámetros recomendada para resolver el problema con el algoritmo Genético? ¿Por qué?\n"
   ]
  },
  {
   "cell_type": "markdown",
   "metadata": {},
   "source": [
    "El comportamiento de un Algoritmo Genético viene determinado, en gran medida, por los parámetros que utiliza, los cuales para este caso son:\n",
    "\n",
    "- Población: 700\n",
    "- Porcentaje de mutación: 0.1\n",
    "- Porcentaje de población élite: 0.1\n",
    "- Repeticiones: 1000\n",
    "\n",
    "\n",
    "Sin embargo, no existe una regla general mediante la cual se puedan seleccionar los parámetros apropiados para cada tipo de problema. En este caso, el porcentaje de mutación va de la mano con el porcentaje de población élite ya que al escogerse lo mejor de cada generación no es necesario diversificar la población de manera reiterada.\n",
    "\n",
    "Mientras más alta sea la población, mayor es la probabilidad que se cree una generación con mayor aptitud, es decir una generación que se acerca más al óptimo global y a la vez evita el estancamiento en un óptimo local."
   ]
  },
  {
   "cell_type": "markdown",
   "metadata": {},
   "source": [
    "## Referencias"
   ]
  },
  {
   "cell_type": "markdown",
   "metadata": {},
   "source": [
    "- Adewole A.P, Otubamowo K (2012). A Comparative Study of Simulated Annealing and Genetic Algorithm for Solving the Travelling Salesman Problem.International Journal of Applied Information Systems,4(4), 6-12\n",
    "\n",
    "- Moon-Won Park,Yeong-Dae Kim. (March 1998). A systematic procedure for setting parameters in simulated annealing algorithms. Computers & Opertaions Research, 25, 207-217.\n",
    "\n",
    "- Munguía M.D (2020). Capítulo 10. Algoritmos probabilísticos. Recuperado de https://cutt.ly/ej8Htyd\n",
    "\n",
    "- Zhan S,Lin J(2016). List-Based Simulated Annealing Algorithm for Traveling Salesman Problem.Computational Intelligence and Neuroscience, 2016\n",
    "\n",
    "\n"
   ]
  }
 ],
 "metadata": {
  "kernelspec": {
   "display_name": "Python 3",
   "language": "python",
   "name": "python3"
  },
  "language_info": {
   "codemirror_mode": {
    "name": "ipython",
    "version": 3
   },
   "file_extension": ".py",
   "mimetype": "text/x-python",
   "name": "python",
   "nbconvert_exporter": "python",
   "pygments_lexer": "ipython3",
   "version": "3.7.3"
  }
 },
 "nbformat": 4,
 "nbformat_minor": 4
}
